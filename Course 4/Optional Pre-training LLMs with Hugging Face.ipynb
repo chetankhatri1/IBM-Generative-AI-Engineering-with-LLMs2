{
 "cells": [
  {
   "cell_type": "markdown",
   "id": "fb55f375-5212-4b42-8d5a-b795611d2b05",
   "metadata": {},
   "source": [
    "<p style=\"text-align:center\">\n",
    "    <a href=\"https://skills.network\" target=\"_blank\">\n",
    "    <img src=\"https://cf-courses-data.s3.us.cloud-object-storage.appdomain.cloud/assets/logos/SN_web_lightmode.png\" width=\"200\" alt=\"Skills Network Logo\"  />\n",
    "    </a>\n",
    "</p>\n"
   ]
  },
  {
   "cell_type": "markdown",
   "id": "87be44e9-8b95-4bd0-b3a7-9a16ff5e29b2",
   "metadata": {},
   "source": [
    "# **Pre-training LLMs with Hugging Face**\n",
    "\n",
    "Estimated time: **45** minutes\n",
    "\n",
    "# Introduction\n",
    "\n",
    "This project aims to introduce you to the process of pretraining large language models (LLMs) using the popular Hugging Face library. Hugging Face is a leading open-source platform for natural language processing that provides a wide range of pretrained models and tools for fine-tuning and deploying these models.\n",
    "\n",
    "You will learn how to load pre-trained models from Hugging Face and make inferences using the Pipeline module. Additionally, you will learn how to further train pre-trained LLMs on your own data (self-supervised fine-tuning). By the end of this lab, you will have a solid understanding of how to pretrain LLMs and store them to later fine-tune for your specific use cases. This will empower you to create powerful and customized natural language processing solutions.\n"
   ]
  },
  {
   "cell_type": "markdown",
   "id": "aa0fd3b2-e7e4-4973-be7e-6dc74d4fa0ab",
   "metadata": {},
   "source": [
    "# __Table of Contents__\n",
    "\n",
    "<ol>\n",
    "    <li><a href=\"#Objectives\">Objectives</a></li>\n",
    "    <li>\n",
    "        <a href=\"#Setup\">Setup</a>\n",
    "        <ol>\n",
    "            <li><a href=\"#Installing-required-libraries\">Installing required libraries</a></li>\n",
    "            <li><a href=\"#Importing-required-libraries\">Importing required libraries</a></li>\n",
    "        </ol>\n",
    "    </li>\n",
    "    <li><a href=\"#Pretraining-and-self-supervised-fine-tuning\">Pretraining and self-supervised fine-tuning</a>\n",
    "        <ol>\n",
    "            <li><a href=\"#Importing-required-datasets\">Importing required datasets</a></li>\n",
    "            <li><a href=\"#Loading-the-saved-model\">Loading the saved model</a></li>\n",
    "            <li><a href=\"#Inferencing-a-pretrained-BERT-model\">Inferencing a pretrained BERT model</a></li>\n",
    "        </ol>\n",
    "    </li>\n",
    "    <li><a href=\"#Exercise\">Exercise</a></li>\n",
    "</ol>\n"
   ]
  },
  {
   "cell_type": "markdown",
   "id": "17fae385-2ca5-45c9-bd64-561cc3fd76a4",
   "metadata": {},
   "source": [
    "---\n"
   ]
  },
  {
   "cell_type": "markdown",
   "id": "f6935cf0-3f7f-4675-b71f-92a2abf26404",
   "metadata": {},
   "source": [
    "# Objectives\n",
    "\n",
    "After completing this lab, you will be able to:\n",
    "\n",
    "\n",
    " - Load pretrained LLMs from Hugging Face and make inferences using the pipeline module\n",
    " - Train pretrained LLMs on your data \n",
    " - Store LLMs to fine-tune them for specific use cases\n",
    " \n"
   ]
  },
  {
   "cell_type": "markdown",
   "id": "932074fa-dd2d-4975-9001-ccbcdb9ffcd5",
   "metadata": {},
   "source": [
    "---\n"
   ]
  },
  {
   "cell_type": "markdown",
   "id": "ed7edb48-5390-4795-a92d-dce431cd31e9",
   "metadata": {},
   "source": [
    "# Setup\n"
   ]
  },
  {
   "cell_type": "markdown",
   "id": "77176020-85e4-4fe6-a2ac-2f9d867e711b",
   "metadata": {},
   "source": [
    "### Installing required libraries\n",
    "The following required libraries are pre-installed in the Skills Network Labs environment. However, if you run these notebook commands in a different Jupyter environment (e.g. Watson Studio or Ananconda), you will need to install these libraries by removing the `#` sign before `!pip` in the code cell below:\n",
    "\n",
    "_PS: To run lab this in your own environment, please note that the versions of libraries may differ due to dependencies._\n"
   ]
  },
  {
   "cell_type": "code",
   "execution_count": 1,
   "id": "92a649ac-6494-4b93-8237-e89aa1666a07",
   "metadata": {},
   "outputs": [
    {
     "name": "stdout",
     "output_type": "stream",
     "text": [
      "\n",
      "Usage:   \n",
      "  pip install [options] <requirement specifier> [package-index-options] ...\n",
      "  pip install [options] -r <requirements file> [package-index-options] ...\n",
      "  pip install [options] [-e] <vcs project url> ...\n",
      "  pip install [options] [-e] <local project path> ...\n",
      "  pip install [options] <archive url/path> ...\n",
      "\n",
      "no such option: -y\n",
      "Defaulting to user installation because normal site-packages is not writeable\n",
      "Requirement already satisfied: pmdarima in /Users/chetan/Library/Python/3.9/lib/python/site-packages (2.0.2)\n",
      "Collecting pmdarima\n",
      "  Downloading pmdarima-2.0.4-cp39-cp39-macosx_11_0_arm64.whl.metadata (7.8 kB)\n",
      "Requirement already satisfied: joblib>=0.11 in /Users/chetan/Library/Python/3.9/lib/python/site-packages (from pmdarima) (1.4.2)\n",
      "Requirement already satisfied: Cython!=0.29.18,!=0.29.31,>=0.29 in /Users/chetan/Library/Python/3.9/lib/python/site-packages (from pmdarima) (3.0.11)\n",
      "Requirement already satisfied: numpy>=1.21.2 in /Users/chetan/Library/Python/3.9/lib/python/site-packages (from pmdarima) (1.26.4)\n",
      "Requirement already satisfied: pandas>=0.19 in /Users/chetan/Library/Python/3.9/lib/python/site-packages (from pmdarima) (2.2.2)\n",
      "Requirement already satisfied: scikit-learn>=0.22 in /Users/chetan/Library/Python/3.9/lib/python/site-packages (from pmdarima) (1.5.2)\n",
      "Requirement already satisfied: scipy>=1.3.2 in /Users/chetan/Library/Python/3.9/lib/python/site-packages (from pmdarima) (1.13.1)\n",
      "Requirement already satisfied: statsmodels>=0.13.2 in /Users/chetan/Library/Python/3.9/lib/python/site-packages (from pmdarima) (0.14.4)\n",
      "Requirement already satisfied: urllib3 in /Users/chetan/Library/Python/3.9/lib/python/site-packages (from pmdarima) (2.2.3)\n",
      "Requirement already satisfied: setuptools!=50.0.0,>=38.6.0 in /Library/Developer/CommandLineTools/Library/Frameworks/Python3.framework/Versions/3.9/lib/python3.9/site-packages (from pmdarima) (58.0.4)\n",
      "Requirement already satisfied: packaging>=17.1 in /Users/chetan/Library/Python/3.9/lib/python/site-packages (from pmdarima) (24.1)\n",
      "Requirement already satisfied: python-dateutil>=2.8.2 in /Users/chetan/Library/Python/3.9/lib/python/site-packages (from pandas>=0.19->pmdarima) (2.9.0.post0)\n",
      "Requirement already satisfied: pytz>=2020.1 in /Users/chetan/Library/Python/3.9/lib/python/site-packages (from pandas>=0.19->pmdarima) (2024.1)\n",
      "Requirement already satisfied: tzdata>=2022.7 in /Users/chetan/Library/Python/3.9/lib/python/site-packages (from pandas>=0.19->pmdarima) (2024.1)\n",
      "Requirement already satisfied: threadpoolctl>=3.1.0 in /Users/chetan/Library/Python/3.9/lib/python/site-packages (from scikit-learn>=0.22->pmdarima) (3.5.0)\n",
      "Requirement already satisfied: patsy>=0.5.6 in /Users/chetan/Library/Python/3.9/lib/python/site-packages (from statsmodels>=0.13.2->pmdarima) (1.0.1)\n",
      "Requirement already satisfied: six>=1.5 in /Library/Developer/CommandLineTools/Library/Frameworks/Python3.framework/Versions/3.9/lib/python3.9/site-packages (from python-dateutil>=2.8.2->pandas>=0.19->pmdarima) (1.15.0)\n",
      "Downloading pmdarima-2.0.4-cp39-cp39-macosx_11_0_arm64.whl (630 kB)\n",
      "\u001b[2K   \u001b[90m━━━━━━━━━━━━━━━━━━━━━━━━━━━━━━━━━━━━━━━━\u001b[0m \u001b[32m630.4/630.4 kB\u001b[0m \u001b[31m21.3 MB/s\u001b[0m eta \u001b[36m0:00:00\u001b[0m\n",
      "\u001b[?25hInstalling collected packages: pmdarima\n",
      "  Attempting uninstall: pmdarima\n",
      "    Found existing installation: pmdarima 2.0.2\n",
      "    Uninstalling pmdarima-2.0.2:\n",
      "      Successfully uninstalled pmdarima-2.0.2\n",
      "Successfully installed pmdarima-2.0.4\n",
      "Defaulting to user installation because normal site-packages is not writeable\n",
      "Collecting pmdarima==2.0.2\n",
      "  Downloading pmdarima-2.0.2-cp39-cp39-macosx_11_0_arm64.whl.metadata (7.8 kB)\n",
      "Requirement already satisfied: joblib>=0.11 in /Users/chetan/Library/Python/3.9/lib/python/site-packages (from pmdarima==2.0.2) (1.4.2)\n",
      "Requirement already satisfied: Cython!=0.29.18,!=0.29.31,>=0.29 in /Users/chetan/Library/Python/3.9/lib/python/site-packages (from pmdarima==2.0.2) (3.0.11)\n",
      "Requirement already satisfied: numpy>=1.21.2 in /Users/chetan/Library/Python/3.9/lib/python/site-packages (from pmdarima==2.0.2) (1.26.4)\n",
      "Requirement already satisfied: pandas>=0.19 in /Users/chetan/Library/Python/3.9/lib/python/site-packages (from pmdarima==2.0.2) (2.2.2)\n",
      "Requirement already satisfied: scikit-learn>=0.22 in /Users/chetan/Library/Python/3.9/lib/python/site-packages (from pmdarima==2.0.2) (1.5.2)\n",
      "Requirement already satisfied: scipy>=1.3.2 in /Users/chetan/Library/Python/3.9/lib/python/site-packages (from pmdarima==2.0.2) (1.13.1)\n",
      "Requirement already satisfied: statsmodels>=0.13.2 in /Users/chetan/Library/Python/3.9/lib/python/site-packages (from pmdarima==2.0.2) (0.14.4)\n",
      "Requirement already satisfied: urllib3 in /Users/chetan/Library/Python/3.9/lib/python/site-packages (from pmdarima==2.0.2) (2.2.3)\n",
      "Requirement already satisfied: setuptools!=50.0.0,>=38.6.0 in /Library/Developer/CommandLineTools/Library/Frameworks/Python3.framework/Versions/3.9/lib/python3.9/site-packages (from pmdarima==2.0.2) (58.0.4)\n",
      "Requirement already satisfied: python-dateutil>=2.8.2 in /Users/chetan/Library/Python/3.9/lib/python/site-packages (from pandas>=0.19->pmdarima==2.0.2) (2.9.0.post0)\n",
      "Requirement already satisfied: pytz>=2020.1 in /Users/chetan/Library/Python/3.9/lib/python/site-packages (from pandas>=0.19->pmdarima==2.0.2) (2024.1)\n",
      "Requirement already satisfied: tzdata>=2022.7 in /Users/chetan/Library/Python/3.9/lib/python/site-packages (from pandas>=0.19->pmdarima==2.0.2) (2024.1)\n",
      "Requirement already satisfied: threadpoolctl>=3.1.0 in /Users/chetan/Library/Python/3.9/lib/python/site-packages (from scikit-learn>=0.22->pmdarima==2.0.2) (3.5.0)\n",
      "Requirement already satisfied: patsy>=0.5.6 in /Users/chetan/Library/Python/3.9/lib/python/site-packages (from statsmodels>=0.13.2->pmdarima==2.0.2) (1.0.1)\n",
      "Requirement already satisfied: packaging>=21.3 in /Users/chetan/Library/Python/3.9/lib/python/site-packages (from statsmodels>=0.13.2->pmdarima==2.0.2) (24.1)\n",
      "Requirement already satisfied: six>=1.5 in /Library/Developer/CommandLineTools/Library/Frameworks/Python3.framework/Versions/3.9/lib/python3.9/site-packages (from python-dateutil>=2.8.2->pandas>=0.19->pmdarima==2.0.2) (1.15.0)\n",
      "Downloading pmdarima-2.0.2-cp39-cp39-macosx_11_0_arm64.whl (580 kB)\n",
      "\u001b[2K   \u001b[90m━━━━━━━━━━━━━━━━━━━━━━━━━━━━━━━━━━━━━━━━\u001b[0m \u001b[32m580.1/580.1 kB\u001b[0m \u001b[31m13.7 MB/s\u001b[0m eta \u001b[36m0:00:00\u001b[0m\n",
      "\u001b[?25hInstalling collected packages: pmdarima\n",
      "  Attempting uninstall: pmdarima\n",
      "    Found existing installation: pmdarima 2.0.4\n",
      "    Uninstalling pmdarima-2.0.4:\n",
      "      Successfully uninstalled pmdarima-2.0.4\n",
      "Successfully installed pmdarima-2.0.2\n"
     ]
    }
   ],
   "source": [
    "# All Libraries required for this lab are listed below. The libraries pre-installed on Skills Network Labs are commented.\n",
    "!pip install -qy pandas==1.3.4 numpy==1.21.4 seaborn==0.9.0 matplotlib==3.5.0 torch=2.1.0+cu118\n",
    "# - Update a specific package\n",
    "!pip install pmdarima -U\n",
    "# - Update a package to specific version\n",
    "!pip install --upgrade pmdarima==2.0.2\n",
    "# Note: If your environment doesn't support \"!pip install\", use \"!mamba install\""
   ]
  },
  {
   "cell_type": "markdown",
   "id": "174d6f79-d175-4389-a308-a23baf7162d6",
   "metadata": {},
   "source": [
    "The following required libraries are __not__ pre-installed in the Skills Network Labs environment. __You will need to run the following cell__ to install them:\n"
   ]
  },
  {
   "cell_type": "code",
   "execution_count": 2,
   "id": "fdae7ec9-7191-4517-bd5e-237508037e9e",
   "metadata": {},
   "outputs": [
    {
     "name": "stdout",
     "output_type": "stream",
     "text": [
      "Defaulting to user installation because normal site-packages is not writeable\n",
      "Collecting git+https://github.com/huggingface/transformers\n",
      "  Cloning https://github.com/huggingface/transformers to /private/var/folders/r4/xqz3pmjs3d96g8g9tpkph3wr0000gn/T/pip-req-build-w19uy2qj\n",
      "  Running command git clone --filter=blob:none --quiet https://github.com/huggingface/transformers /private/var/folders/r4/xqz3pmjs3d96g8g9tpkph3wr0000gn/T/pip-req-build-w19uy2qj\n",
      "  Resolved https://github.com/huggingface/transformers to commit 7eecdf2a8650306ed5fbb6150c64f99f587e004d\n",
      "  Installing build dependencies ... \u001b[?25ldone\n",
      "\u001b[?25h  Getting requirements to build wheel ... \u001b[?25ldone\n",
      "\u001b[?25h  Preparing metadata (pyproject.toml) ... \u001b[?25ldone\n",
      "\u001b[?25hRequirement already satisfied: filelock in /Users/chetan/Library/Python/3.9/lib/python/site-packages (from transformers==4.49.0.dev0) (3.16.1)\n",
      "Requirement already satisfied: huggingface-hub<1.0,>=0.24.0 in /Users/chetan/Library/Python/3.9/lib/python/site-packages (from transformers==4.49.0.dev0) (0.25.1)\n",
      "Requirement already satisfied: numpy>=1.17 in /Users/chetan/Library/Python/3.9/lib/python/site-packages (from transformers==4.49.0.dev0) (1.26.4)\n",
      "Requirement already satisfied: packaging>=20.0 in /Users/chetan/Library/Python/3.9/lib/python/site-packages (from transformers==4.49.0.dev0) (24.1)\n",
      "Requirement already satisfied: pyyaml>=5.1 in /Users/chetan/Library/Python/3.9/lib/python/site-packages (from transformers==4.49.0.dev0) (6.0.2)\n",
      "Requirement already satisfied: regex!=2019.12.17 in /Users/chetan/Library/Python/3.9/lib/python/site-packages (from transformers==4.49.0.dev0) (2024.9.11)\n",
      "Requirement already satisfied: requests in /Users/chetan/Library/Python/3.9/lib/python/site-packages (from transformers==4.49.0.dev0) (2.32.3)\n",
      "Requirement already satisfied: tokenizers<0.22,>=0.21 in /Users/chetan/Library/Python/3.9/lib/python/site-packages (from transformers==4.49.0.dev0) (0.21.0)\n",
      "Requirement already satisfied: safetensors>=0.4.1 in /Users/chetan/Library/Python/3.9/lib/python/site-packages (from transformers==4.49.0.dev0) (0.4.5)\n",
      "Requirement already satisfied: tqdm>=4.27 in /Users/chetan/Library/Python/3.9/lib/python/site-packages (from transformers==4.49.0.dev0) (4.66.5)\n",
      "Requirement already satisfied: fsspec>=2023.5.0 in /Users/chetan/Library/Python/3.9/lib/python/site-packages (from huggingface-hub<1.0,>=0.24.0->transformers==4.49.0.dev0) (2024.9.0)\n",
      "Requirement already satisfied: typing-extensions>=3.7.4.3 in /Users/chetan/Library/Python/3.9/lib/python/site-packages (from huggingface-hub<1.0,>=0.24.0->transformers==4.49.0.dev0) (4.12.2)\n",
      "Requirement already satisfied: charset-normalizer<4,>=2 in /Users/chetan/Library/Python/3.9/lib/python/site-packages (from requests->transformers==4.49.0.dev0) (3.3.2)\n",
      "Requirement already satisfied: idna<4,>=2.5 in /Users/chetan/Library/Python/3.9/lib/python/site-packages (from requests->transformers==4.49.0.dev0) (3.8)\n",
      "Requirement already satisfied: urllib3<3,>=1.21.1 in /Users/chetan/Library/Python/3.9/lib/python/site-packages (from requests->transformers==4.49.0.dev0) (2.2.3)\n",
      "Requirement already satisfied: certifi>=2017.4.17 in /Users/chetan/Library/Python/3.9/lib/python/site-packages (from requests->transformers==4.49.0.dev0) (2024.8.30)\n",
      "Requirement already satisfied: datasets in /Users/chetan/Library/Python/3.9/lib/python/site-packages (3.2.0)\n",
      "Requirement already satisfied: filelock in /Users/chetan/Library/Python/3.9/lib/python/site-packages (from datasets) (3.16.1)\n",
      "Requirement already satisfied: numpy>=1.17 in /Users/chetan/Library/Python/3.9/lib/python/site-packages (from datasets) (1.26.4)\n",
      "Requirement already satisfied: pyarrow>=15.0.0 in /Users/chetan/Library/Python/3.9/lib/python/site-packages (from datasets) (19.0.0)\n",
      "Requirement already satisfied: dill<0.3.9,>=0.3.0 in /Users/chetan/Library/Python/3.9/lib/python/site-packages (from datasets) (0.3.8)\n",
      "Requirement already satisfied: pandas in /Users/chetan/Library/Python/3.9/lib/python/site-packages (from datasets) (2.2.2)\n",
      "Requirement already satisfied: requests>=2.32.2 in /Users/chetan/Library/Python/3.9/lib/python/site-packages (from datasets) (2.32.3)\n",
      "Requirement already satisfied: tqdm>=4.66.3 in /Users/chetan/Library/Python/3.9/lib/python/site-packages (from datasets) (4.66.5)\n",
      "Requirement already satisfied: xxhash in /Users/chetan/Library/Python/3.9/lib/python/site-packages (from datasets) (3.5.0)\n",
      "Requirement already satisfied: multiprocess<0.70.17 in /Users/chetan/Library/Python/3.9/lib/python/site-packages (from datasets) (0.70.16)\n",
      "Requirement already satisfied: fsspec<=2024.9.0,>=2023.1.0 in /Users/chetan/Library/Python/3.9/lib/python/site-packages (from fsspec[http]<=2024.9.0,>=2023.1.0->datasets) (2024.9.0)\n",
      "Requirement already satisfied: aiohttp in /Users/chetan/Library/Python/3.9/lib/python/site-packages (from datasets) (3.11.11)\n",
      "Requirement already satisfied: huggingface-hub>=0.23.0 in /Users/chetan/Library/Python/3.9/lib/python/site-packages (from datasets) (0.25.1)\n",
      "Requirement already satisfied: packaging in /Users/chetan/Library/Python/3.9/lib/python/site-packages (from datasets) (24.1)\n",
      "Requirement already satisfied: pyyaml>=5.1 in /Users/chetan/Library/Python/3.9/lib/python/site-packages (from datasets) (6.0.2)\n",
      "Requirement already satisfied: aiohappyeyeballs>=2.3.0 in /Users/chetan/Library/Python/3.9/lib/python/site-packages (from aiohttp->datasets) (2.4.4)\n",
      "Requirement already satisfied: aiosignal>=1.1.2 in /Users/chetan/Library/Python/3.9/lib/python/site-packages (from aiohttp->datasets) (1.3.2)\n",
      "Requirement already satisfied: async-timeout<6.0,>=4.0 in /Users/chetan/Library/Python/3.9/lib/python/site-packages (from aiohttp->datasets) (5.0.1)\n",
      "Requirement already satisfied: attrs>=17.3.0 in /Users/chetan/Library/Python/3.9/lib/python/site-packages (from aiohttp->datasets) (24.2.0)\n",
      "Requirement already satisfied: frozenlist>=1.1.1 in /Users/chetan/Library/Python/3.9/lib/python/site-packages (from aiohttp->datasets) (1.5.0)\n",
      "Requirement already satisfied: multidict<7.0,>=4.5 in /Users/chetan/Library/Python/3.9/lib/python/site-packages (from aiohttp->datasets) (6.1.0)\n",
      "Requirement already satisfied: propcache>=0.2.0 in /Users/chetan/Library/Python/3.9/lib/python/site-packages (from aiohttp->datasets) (0.2.1)\n",
      "Requirement already satisfied: yarl<2.0,>=1.17.0 in /Users/chetan/Library/Python/3.9/lib/python/site-packages (from aiohttp->datasets) (1.18.3)\n",
      "Requirement already satisfied: typing-extensions>=3.7.4.3 in /Users/chetan/Library/Python/3.9/lib/python/site-packages (from huggingface-hub>=0.23.0->datasets) (4.12.2)\n",
      "Requirement already satisfied: charset-normalizer<4,>=2 in /Users/chetan/Library/Python/3.9/lib/python/site-packages (from requests>=2.32.2->datasets) (3.3.2)\n",
      "Requirement already satisfied: idna<4,>=2.5 in /Users/chetan/Library/Python/3.9/lib/python/site-packages (from requests>=2.32.2->datasets) (3.8)\n",
      "Requirement already satisfied: urllib3<3,>=1.21.1 in /Users/chetan/Library/Python/3.9/lib/python/site-packages (from requests>=2.32.2->datasets) (2.2.3)\n",
      "Requirement already satisfied: certifi>=2017.4.17 in /Users/chetan/Library/Python/3.9/lib/python/site-packages (from requests>=2.32.2->datasets) (2024.8.30)\n",
      "Requirement already satisfied: python-dateutil>=2.8.2 in /Users/chetan/Library/Python/3.9/lib/python/site-packages (from pandas->datasets) (2.9.0.post0)\n",
      "Requirement already satisfied: pytz>=2020.1 in /Users/chetan/Library/Python/3.9/lib/python/site-packages (from pandas->datasets) (2024.1)\n",
      "Requirement already satisfied: tzdata>=2022.7 in /Users/chetan/Library/Python/3.9/lib/python/site-packages (from pandas->datasets) (2024.1)\n",
      "Requirement already satisfied: six>=1.5 in /Library/Developer/CommandLineTools/Library/Frameworks/Python3.framework/Versions/3.9/lib/python3.9/site-packages (from python-dateutil>=2.8.2->pandas->datasets) (1.15.0)\n",
      "zsh:1: 2/0.0 not found\n",
      "Collecting torch==2.3.0\n",
      "  Downloading torch-2.3.0-cp39-none-macosx_11_0_arm64.whl.metadata (26 kB)\n",
      "Requirement already satisfied: filelock in /Users/chetan/Library/Python/3.9/lib/python/site-packages (from torch==2.3.0) (3.16.1)\n",
      "Requirement already satisfied: typing-extensions>=4.8.0 in /Users/chetan/Library/Python/3.9/lib/python/site-packages (from torch==2.3.0) (4.12.2)\n",
      "Requirement already satisfied: sympy in /Users/chetan/Library/Python/3.9/lib/python/site-packages (from torch==2.3.0) (1.13.1)\n",
      "Requirement already satisfied: networkx in /Users/chetan/Library/Python/3.9/lib/python/site-packages (from torch==2.3.0) (3.2.1)\n",
      "Requirement already satisfied: jinja2 in /Users/chetan/Library/Python/3.9/lib/python/site-packages (from torch==2.3.0) (3.1.4)\n",
      "Requirement already satisfied: fsspec in /Users/chetan/Library/Python/3.9/lib/python/site-packages (from torch==2.3.0) (2024.9.0)\n",
      "Requirement already satisfied: MarkupSafe>=2.0 in /Users/chetan/Library/Python/3.9/lib/python/site-packages (from jinja2->torch==2.3.0) (2.1.5)\n",
      "Requirement already satisfied: mpmath<1.4,>=1.1.0 in /Users/chetan/Library/Python/3.9/lib/python/site-packages (from sympy->torch==2.3.0) (1.3.0)\n",
      "Downloading torch-2.3.0-cp39-none-macosx_11_0_arm64.whl (61.0 MB)\n",
      "\u001b[2K   \u001b[90m━━━━━━━━━━━━━━━━━━━━━━━━━━━━━━━━━━━━━━━━\u001b[0m \u001b[32m61.0/61.0 MB\u001b[0m \u001b[31m65.3 MB/s\u001b[0m eta \u001b[36m0:00:00\u001b[0ma \u001b[36m0:00:01\u001b[0m\n",
      "\u001b[?25hInstalling collected packages: torch\n",
      "  Attempting uninstall: torch\n",
      "    Found existing installation: torch 2.6.0\n",
      "    Uninstalling torch-2.6.0:\n",
      "      Successfully uninstalled torch-2.6.0\n",
      "\u001b[31mERROR: pip's dependency resolver does not currently take into account all the packages that are installed. This behaviour is the source of the following dependency conflicts.\n",
      "torchdata 0.5.1 requires torch==1.13.1, but you have torch 2.3.0 which is incompatible.\n",
      "torchvision 0.21.0 requires torch==2.6.0, but you have torch 2.3.0 which is incompatible.\u001b[0m\u001b[31m\n",
      "\u001b[0mSuccessfully installed torch-2.3.0\n",
      "Defaulting to user installation because normal site-packages is not writeable\n",
      "Requirement already satisfied: torchvision in /Users/chetan/Library/Python/3.9/lib/python/site-packages (0.21.0)\n",
      "Requirement already satisfied: numpy in /Users/chetan/Library/Python/3.9/lib/python/site-packages (from torchvision) (1.26.4)\n",
      "Collecting torch==2.6.0 (from torchvision)\n",
      "  Downloading torch-2.6.0-cp39-none-macosx_11_0_arm64.whl.metadata (28 kB)\n",
      "Requirement already satisfied: pillow!=8.3.*,>=5.3.0 in /Users/chetan/Library/Python/3.9/lib/python/site-packages (from torchvision) (10.4.0)\n",
      "Requirement already satisfied: filelock in /Users/chetan/Library/Python/3.9/lib/python/site-packages (from torch==2.6.0->torchvision) (3.16.1)\n",
      "Requirement already satisfied: typing-extensions>=4.10.0 in /Users/chetan/Library/Python/3.9/lib/python/site-packages (from torch==2.6.0->torchvision) (4.12.2)\n",
      "Requirement already satisfied: networkx in /Users/chetan/Library/Python/3.9/lib/python/site-packages (from torch==2.6.0->torchvision) (3.2.1)\n",
      "Requirement already satisfied: jinja2 in /Users/chetan/Library/Python/3.9/lib/python/site-packages (from torch==2.6.0->torchvision) (3.1.4)\n",
      "Requirement already satisfied: fsspec in /Users/chetan/Library/Python/3.9/lib/python/site-packages (from torch==2.6.0->torchvision) (2024.9.0)\n",
      "Requirement already satisfied: sympy==1.13.1 in /Users/chetan/Library/Python/3.9/lib/python/site-packages (from torch==2.6.0->torchvision) (1.13.1)\n",
      "Requirement already satisfied: mpmath<1.4,>=1.1.0 in /Users/chetan/Library/Python/3.9/lib/python/site-packages (from sympy==1.13.1->torch==2.6.0->torchvision) (1.3.0)\n",
      "Requirement already satisfied: MarkupSafe>=2.0 in /Users/chetan/Library/Python/3.9/lib/python/site-packages (from jinja2->torch==2.6.0->torchvision) (2.1.5)\n",
      "Downloading torch-2.6.0-cp39-none-macosx_11_0_arm64.whl (66.5 MB)\n",
      "\u001b[2K   \u001b[90m━━━━━━━━━━━━━━━━━━━━━━━━━━━━━━━━━━━━━━━━\u001b[0m \u001b[32m66.5/66.5 MB\u001b[0m \u001b[31m72.6 MB/s\u001b[0m eta \u001b[36m0:00:00\u001b[0ma \u001b[36m0:00:01\u001b[0m\n",
      "\u001b[?25hInstalling collected packages: torch\n",
      "  Attempting uninstall: torch\n",
      "    Found existing installation: torch 2.3.0\n",
      "    Uninstalling torch-2.3.0:\n",
      "      Successfully uninstalled torch-2.3.0\n",
      "\u001b[31mERROR: pip's dependency resolver does not currently take into account all the packages that are installed. This behaviour is the source of the following dependency conflicts.\n",
      "torchdata 0.5.1 requires torch==1.13.1, but you have torch 2.6.0 which is incompatible.\u001b[0m\u001b[31m\n",
      "\u001b[0mSuccessfully installed torch-2.6.0\n",
      "zsh:1: no matches found: protobuf==3.20.*\n"
     ]
    }
   ],
   "source": [
    "#!pip install transformers==4.40.0 \n",
    "!pip install -U git+https://github.com/huggingface/transformers\n",
    "!pip install --user datasets # 2.15.0\n",
    "!pip install --user portalocker>=2/0.0\n",
    "!pip install -q -U git+https://github.com/huggingface/accelerate.git\n",
    "!pip install --user torch==2.3.0\n",
    "!pip install -U torchvision\n",
    "!pip install --user protobuf==3.20.*\n",
    "\n"
   ]
  },
  {
   "cell_type": "code",
   "execution_count": 3,
   "id": "ad9f5508-e0bf-4987-bbe8-5852053c9ebd",
   "metadata": {},
   "outputs": [
    {
     "name": "stdout",
     "output_type": "stream",
     "text": [
      "Requirement already satisfied: dataset in /Users/chetan/Library/Python/3.9/lib/python/site-packages (1.6.2)\n",
      "Requirement already satisfied: sqlalchemy<2.0.0,>=1.3.2 in /Users/chetan/Library/Python/3.9/lib/python/site-packages (from dataset) (1.4.54)\n",
      "Requirement already satisfied: alembic>=0.6.2 in /Users/chetan/Library/Python/3.9/lib/python/site-packages (from dataset) (1.14.1)\n",
      "Requirement already satisfied: banal>=1.0.1 in /Users/chetan/Library/Python/3.9/lib/python/site-packages (from dataset) (1.0.6)\n",
      "Requirement already satisfied: Mako in /Users/chetan/Library/Python/3.9/lib/python/site-packages (from alembic>=0.6.2->dataset) (1.3.8)\n",
      "Requirement already satisfied: typing-extensions>=4 in /Users/chetan/Library/Python/3.9/lib/python/site-packages (from alembic>=0.6.2->dataset) (4.12.2)\n",
      "Requirement already satisfied: MarkupSafe>=0.9.2 in /Users/chetan/Library/Python/3.9/lib/python/site-packages (from Mako->alembic>=0.6.2->dataset) (2.1.5)\n"
     ]
    }
   ],
   "source": [
    "!pip install --user dataset"
   ]
  },
  {
   "cell_type": "markdown",
   "id": "17afb8b8-9845-45f9-9a55-f6c6914c1a27",
   "metadata": {},
   "source": [
    "### Importing required libraries\n",
    "\n",
    "_It is recommended that you import all required libraries in one place (here):_\n",
    "* Note: if you got an error after running the cell below, try restarting the Kernel as some packages need a restart to be effective.\n"
   ]
  },
  {
   "cell_type": "code",
   "execution_count": 4,
   "id": "64222c23-8659-4065-8bb6-f0ab3cffbe44",
   "metadata": {},
   "outputs": [
    {
     "name": "stderr",
     "output_type": "stream",
     "text": [
      "/Users/chetan/Library/Python/3.9/lib/python/site-packages/urllib3/__init__.py:35: NotOpenSSLWarning: urllib3 v2 only supports OpenSSL 1.1.1+, currently the 'ssl' module is compiled with 'LibreSSL 2.8.3'. See: https://github.com/urllib3/urllib3/issues/3020\n",
      "  warnings.warn(\n"
     ]
    }
   ],
   "source": [
    "import torch\n",
    "from torch.optim.lr_scheduler import LambdaLR\n",
    "from torch.utils.data import DataLoader\n",
    "from torch.optim import AdamW\n",
    "from transformers import AutoConfig,AutoModelForCausalLM,AutoModelForSequenceClassification,BertConfig,BertForMaskedLM,TrainingArguments, Trainer, TrainingArguments\n",
    "from transformers import AutoTokenizer,BertTokenizerFast,TextDataset,DataCollatorForLanguageModeling\n",
    "from transformers import pipeline\n",
    "from datasets import load_dataset\n",
    "\n",
    "from tqdm.auto import tqdm\n",
    "import math\n",
    "import time\n",
    "import os\n",
    "\n",
    "\n",
    "# You can also use this section to suppress warnings generated by your code:\n",
    "def warn(*args, **kwargs):\n",
    "    pass\n",
    "import warnings\n",
    "warnings.warn = warn\n",
    "warnings.filterwarnings('ignore')"
   ]
  },
  {
   "cell_type": "markdown",
   "id": "5df83eff-a8dd-48bf-a9f4-c73d46e55f70",
   "metadata": {},
   "source": [
    "Disable tokenizer parallelism to avoid deadlocks.\n"
   ]
  },
  {
   "cell_type": "code",
   "execution_count": 5,
   "id": "f2ceff39-8d80-4270-903c-382f626c3476",
   "metadata": {},
   "outputs": [],
   "source": [
    "# Set the environment variable TOKENIZERS_PARALLELISM to 'false'\n",
    "import os\n",
    "os.environ['TOKENIZERS_PARALLELISM'] = 'false'\n"
   ]
  },
  {
   "cell_type": "markdown",
   "id": "42395d00-169f-4b54-91fc-421ad6bd8599",
   "metadata": {},
   "source": [
    "---\n"
   ]
  },
  {
   "cell_type": "markdown",
   "id": "efab4707-c193-41e0-9ef4-5679ca9f65e4",
   "metadata": {},
   "source": [
    "# Pretraining and self-supervised fine-tuning\n"
   ]
  },
  {
   "cell_type": "markdown",
   "id": "6ac96e20-79fc-41fd-bbf7-a39f4a723de5",
   "metadata": {},
   "source": [
    "Pretraining is a technique used in natural language processing (NLP) to train large language models (LLMs) on a vast corpus of unlabeled text data. The goal is to capture the general patterns and semantic relationships present in natural language, allowing the model to develop a deep understanding of language structure and meaning.\n",
    "\n",
    "The motivation behind pretraining transformers is to address the limitations of traditional NLP approaches that often require significant amounts of labeled data for each specific task. By leveraging the abundance of unlabeled text data, pretraining enables the model to learn fundamental language skills through self-supervised objectives, facilitating transfer learning.\n",
    "\n",
    "The pretraining objectives, such as masked language modeling (MLM) and next sentence prediction (NSP), play a crucial role in the success of transformer models. Pretrained models can be further tuned by training them on domain-specific unlabeled data, which is known as self-supervised fine-tuning.\n",
    "\n",
    "Also, the model can be fine-tuned on specific downstream tasks using labeled data, a process known as supervised fine-tuning, further improving its performance.\n",
    "\n",
    "In the following sections of this lab, you will explore pretraining objectives, loading pretrained models, data preparation, and the fine-tuning process. By the end, you will have a solid understanding of pretraining and self-supervised fine-tuning, empowering you to apply these techniques to solve real-world NLP problems.\n"
   ]
  },
  {
   "cell_type": "markdown",
   "id": "8aeaa7bd-f38e-4056-9f6c-3b9e4669a0b1",
   "metadata": {},
   "source": [
    "Let's start with loading a pretrained model from Hugging Face and making an inference:\n"
   ]
  },
  {
   "cell_type": "code",
   "execution_count": 6,
   "id": "d6be3b56-c8a0-4837-b7a5-f3c42b9ca74f",
   "metadata": {},
   "outputs": [
    {
     "data": {
      "application/vnd.jupyter.widget-view+json": {
       "model_id": "6f588110ec5744e6bc2105f49be41a6c",
       "version_major": 2,
       "version_minor": 0
      },
      "text/plain": [
       "config.json:   0%|          | 0.00/644 [00:00<?, ?B/s]"
      ]
     },
     "metadata": {},
     "output_type": "display_data"
    },
    {
     "data": {
      "application/vnd.jupyter.widget-view+json": {
       "model_id": "c20b154ea6694d089e72c1a322f353e1",
       "version_major": 2,
       "version_minor": 0
      },
      "text/plain": [
       "pytorch_model.bin:   0%|          | 0.00/663M [00:00<?, ?B/s]"
      ]
     },
     "metadata": {},
     "output_type": "display_data"
    },
    {
     "data": {
      "application/vnd.jupyter.widget-view+json": {
       "model_id": "e8afaca85424495882aea75cf89dc56c",
       "version_major": 2,
       "version_minor": 0
      },
      "text/plain": [
       "generation_config.json:   0%|          | 0.00/137 [00:00<?, ?B/s]"
      ]
     },
     "metadata": {},
     "output_type": "display_data"
    },
    {
     "data": {
      "application/vnd.jupyter.widget-view+json": {
       "model_id": "3a485542e30048ae8cb304b3cea7d788",
       "version_major": 2,
       "version_minor": 0
      },
      "text/plain": [
       "tokenizer_config.json:   0%|          | 0.00/685 [00:00<?, ?B/s]"
      ]
     },
     "metadata": {},
     "output_type": "display_data"
    },
    {
     "data": {
      "application/vnd.jupyter.widget-view+json": {
       "model_id": "37b1d2857e2d4a9ba7cf6ee8851d46a4",
       "version_major": 2,
       "version_minor": 0
      },
      "text/plain": [
       "vocab.json:   0%|          | 0.00/899k [00:00<?, ?B/s]"
      ]
     },
     "metadata": {},
     "output_type": "display_data"
    },
    {
     "data": {
      "application/vnd.jupyter.widget-view+json": {
       "model_id": "2ad0937f09c34e5a93c3a5b24e03b55c",
       "version_major": 2,
       "version_minor": 0
      },
      "text/plain": [
       "merges.txt:   0%|          | 0.00/456k [00:00<?, ?B/s]"
      ]
     },
     "metadata": {},
     "output_type": "display_data"
    },
    {
     "data": {
      "application/vnd.jupyter.widget-view+json": {
       "model_id": "f898c2f4a78548fda5d73974030c8dc2",
       "version_major": 2,
       "version_minor": 0
      },
      "text/plain": [
       "special_tokens_map.json:   0%|          | 0.00/441 [00:00<?, ?B/s]"
      ]
     },
     "metadata": {},
     "output_type": "display_data"
    },
    {
     "name": "stderr",
     "output_type": "stream",
     "text": [
      "Device set to use mps:0\n"
     ]
    },
    {
     "name": "stdout",
     "output_type": "stream",
     "text": [
      "This movie was really good. I was really surprised by how good it was.\n",
      "I was\n"
     ]
    }
   ],
   "source": [
    "model = AutoModelForCausalLM.from_pretrained(\"facebook/opt-350m\")\n",
    "tokenizer = AutoTokenizer.from_pretrained(\"facebook/opt-350m\")\n",
    "\n",
    "pipe = pipeline(\"text-generation\", model=model,tokenizer=tokenizer)\n",
    "print(pipe(\"This movie was really\")[0][\"generated_text\"])"
   ]
  },
  {
   "cell_type": "markdown",
   "id": "10330a7d-20c8-4ee5-aee1-6f24019889bf",
   "metadata": {},
   "source": [
    "## Pre-training Objectives\n",
    "\n",
    "Pre-training objectives are crucial components of the pre-training process for transformers. These objectives define the tasks that the model is trained on during the pre-training phase, allowing it to learn meaningful contextual representations of language. Three commonly used pre-training objectives are masked language modeling (MLM), next sentence prediction (NSP) and next Ttoken prediction.\n",
    "\n",
    "1. Masked Language Modeling (MLM):\n",
    "   Masked language modeling involves randomly masking some words in a sentence and training the model to predict the masked words based on the context provided by the surrounding words(i.e., words that appear either before or after the masked word). The objective is to enable the model to learn contextual understanding and fill in missing information.\n",
    "\n",
    "2. Next Sentence Prediction (NSP):\n",
    "   Next sentence prediction involves training the model to predict whether two sentences are consecutive in the original text or randomly chosen from the corpus. This objective helps the model learn sentence-level relationships and understand the coherence between sentences.\n",
    "\n",
    "3. Next Token Prediction:\n",
    "    In this objective, the model is trained to predict the next token in a sequence of text. The model is presented with a sequence of text and must learn to predict the most likely next token based on the context.\n",
    "\n",
    "It's important to note that different pre-trained models may use variations or combinations of these objectives, depending on the specific architecture and training setup.\n"
   ]
  },
  {
   "cell_type": "markdown",
   "id": "7760f706-2a71-49c0-9c5e-dc560692b6d7",
   "metadata": {},
   "source": [
    "## Self-supervised training of a BERT model\n",
    "Training a BERT(Bidirectional Encoder Representations from Transformers) model is a complex and time-consuming process that requires a large corpus of unlabeled text data and significant computational resources. However, we provide you with a simplified exercise to demonstrate the steps involved in pre-training a BERT model using the Masked Language Modeling (MLM) objective.\n",
    "\n",
    "For this exercise, we'll use the Hugging Face Transformers library, which provides pre-implemented BERT models and tools for pre-training. You will be instructed to:\n",
    "- Prepare the train dataset\n",
    "- Train a Tokenizer\n",
    "- Preprocess the dataset\n",
    "- Pre-train BERT using an MLM task\n",
    "- Evaluate the trained model\n"
   ]
  },
  {
   "cell_type": "markdown",
   "id": "60f9036a-2387-4f59-88e9-a2f7dc75ca9b",
   "metadata": {},
   "source": [
    "### Importing required datasets\n",
    "\n",
    "The WikiText dataset is a widely used benchmark dataset in the field of natural language processing (NLP). The dataset contains a large amount of text extracted from Wikipedia, which is a vast online encyclopedia covering a wide range of topics. The articles in the WikiText dataset are preprocessed to remove formatting, hyperlinks, and other metadata, resulting in a clean text corpus.\n",
    "\n",
    "The WikiText dataset has 4 different configs, and is divided into three parts: a training set, a validation set, and a test set. The training set is used for training language models, while the validation and test sets are used for evaluating the performance of the models.\n",
    "First, let's load the datasets and concatenate them together to create a big dataset.\n",
    "\n",
    "*Note: The original BERT was pretrained on Wikipedia and BookCorpus datasets.\n"
   ]
  },
  {
   "cell_type": "code",
   "execution_count": 7,
   "id": "55ee3455-e756-4ee3-b685-00925c476706",
   "metadata": {},
   "outputs": [
    {
     "data": {
      "application/vnd.jupyter.widget-view+json": {
       "model_id": "f97c737548ef4e95bb0f6dcec6c67524",
       "version_major": 2,
       "version_minor": 0
      },
      "text/plain": [
       "README.md:   0%|          | 0.00/10.5k [00:00<?, ?B/s]"
      ]
     },
     "metadata": {},
     "output_type": "display_data"
    },
    {
     "data": {
      "application/vnd.jupyter.widget-view+json": {
       "model_id": "a6bd966c0d1e4044a39b3e24ea899c82",
       "version_major": 2,
       "version_minor": 0
      },
      "text/plain": [
       "test-00000-of-00001.parquet:   0%|          | 0.00/733k [00:00<?, ?B/s]"
      ]
     },
     "metadata": {},
     "output_type": "display_data"
    },
    {
     "data": {
      "application/vnd.jupyter.widget-view+json": {
       "model_id": "94f8e0f925dd479f9bbd791b4365816b",
       "version_major": 2,
       "version_minor": 0
      },
      "text/plain": [
       "train-00000-of-00001.parquet:   0%|          | 0.00/6.36M [00:00<?, ?B/s]"
      ]
     },
     "metadata": {},
     "output_type": "display_data"
    },
    {
     "data": {
      "application/vnd.jupyter.widget-view+json": {
       "model_id": "0f5da0e908d84448ac1a5d85f57b00bd",
       "version_major": 2,
       "version_minor": 0
      },
      "text/plain": [
       "validation-00000-of-00001.parquet:   0%|          | 0.00/657k [00:00<?, ?B/s]"
      ]
     },
     "metadata": {},
     "output_type": "display_data"
    },
    {
     "data": {
      "application/vnd.jupyter.widget-view+json": {
       "model_id": "377196f462244371891ad523bb178d98",
       "version_major": 2,
       "version_minor": 0
      },
      "text/plain": [
       "Generating test split:   0%|          | 0/4358 [00:00<?, ? examples/s]"
      ]
     },
     "metadata": {},
     "output_type": "display_data"
    },
    {
     "data": {
      "application/vnd.jupyter.widget-view+json": {
       "model_id": "c543597a6bb94167b56ae8b283b9e946",
       "version_major": 2,
       "version_minor": 0
      },
      "text/plain": [
       "Generating train split:   0%|          | 0/36718 [00:00<?, ? examples/s]"
      ]
     },
     "metadata": {},
     "output_type": "display_data"
    },
    {
     "data": {
      "application/vnd.jupyter.widget-view+json": {
       "model_id": "5edb705b765944a885b78453402f2333",
       "version_major": 2,
       "version_minor": 0
      },
      "text/plain": [
       "Generating validation split:   0%|          | 0/3760 [00:00<?, ? examples/s]"
      ]
     },
     "metadata": {},
     "output_type": "display_data"
    }
   ],
   "source": [
    "# Load the datasets\n",
    "dataset = load_dataset(\"wikitext\", \"wikitext-2-raw-v1\")"
   ]
  },
  {
   "cell_type": "markdown",
   "id": "2ff3295b-a887-48a9-851d-eafa17eaade2",
   "metadata": {},
   "source": [
    "Let's check the dataset:\n"
   ]
  },
  {
   "cell_type": "code",
   "execution_count": 8,
   "id": "8114272c-0b43-456a-a87a-2054bf5fcf55",
   "metadata": {},
   "outputs": [
    {
     "name": "stdout",
     "output_type": "stream",
     "text": [
      "DatasetDict({\n",
      "    test: Dataset({\n",
      "        features: ['text'],\n",
      "        num_rows: 4358\n",
      "    })\n",
      "    train: Dataset({\n",
      "        features: ['text'],\n",
      "        num_rows: 36718\n",
      "    })\n",
      "    validation: Dataset({\n",
      "        features: ['text'],\n",
      "        num_rows: 3760\n",
      "    })\n",
      "})\n"
     ]
    }
   ],
   "source": [
    "print(dataset)"
   ]
  },
  {
   "cell_type": "markdown",
   "id": "cb92ff53-0c97-4060-8ec2-e64381c98854",
   "metadata": {},
   "source": [
    "check a sample record\n"
   ]
  },
  {
   "cell_type": "code",
   "execution_count": 9,
   "id": "da2acac5-5f95-49a2-802c-8fe325b7674d",
   "metadata": {},
   "outputs": [
    {
     "data": {
      "text/plain": [
       "{'text': \" When Mason was injured in warm @-@ ups late in the year , Columbus was without an active goaltender on their roster . To remedy the situation , the team signed former University of Michigan goaltender Shawn Hunwick to a one @-@ day , amateur tryout contract . After being eliminated from the NCAA Tournament just days prior , Hunwick skipped an astronomy class and drove his worn down 2003 Ford Ranger to Columbus to make the game . He served as the back @-@ up to Allen York during the game , and the following day , he signed a contract for the remainder of the year . With Mason returning from injury , Hunwick was third on the team 's depth chart when an injury to York allowed Hunwick to remain as the back @-@ up for the final two games of the year . In the final game of the season , the Blue Jackets were leading the Islanders 7 – 3 with 2 : 33 remaining when , at the behest of his teammates , Head Coach Todd Richards put Hunwick in to finish the game . He did not face a shot . Hunwick was the franchise record ninth player to make his NHL debut during the season . Conversely , Vaclav Prospal played in his 1,000th NHL game during the year . \\n\"}"
      ]
     },
     "execution_count": 9,
     "metadata": {},
     "output_type": "execute_result"
    }
   ],
   "source": [
    "#check a sample record\n",
    "dataset[\"train\"][400]"
   ]
  },
  {
   "cell_type": "markdown",
   "id": "76c2e3db-7920-4018-ae51-800daa1a2e9c",
   "metadata": {},
   "source": [
    "This dataset contains 36,718 rows of training data. If you do not run the code on a GPU-powered notebook, you will need to decrease the size of dataset to be able to complete the training. You can uncomment the commands below to select a desired section of dataset:\n"
   ]
  },
  {
   "cell_type": "code",
   "execution_count": 10,
   "id": "fbdfc731-762e-40e4-9486-1f1fb7282504",
   "metadata": {},
   "outputs": [],
   "source": [
    "#dataset[\"train\"] = dataset[\"train\"].select([i for i in range(1000)])\n",
    "#dataset[\"test\"] = dataset[\"test\"].select([i for i in range(200)])"
   ]
  },
  {
   "cell_type": "markdown",
   "id": "2de33cef-f95b-4612-bfd4-a9d1c8ee2485",
   "metadata": {},
   "source": [
    "Below files are next used in creating TextDataset objects for the training:\n"
   ]
  },
  {
   "cell_type": "code",
   "execution_count": 11,
   "id": "80f3b3d1-8ab1-4c10-b51f-79dfc90612d3",
   "metadata": {},
   "outputs": [],
   "source": [
    "# Path to save the datasets to text files\n",
    "output_file_train = \"wikitext_dataset_train.txt\"\n",
    "output_file_test = \"wikitext_dataset_test.txt\"\n",
    "\n",
    "# Open the output file in write mode\n",
    "with open(output_file_train, \"w\", encoding=\"utf-8\") as f:\n",
    "    # Iterate over each example in the dataset\n",
    "    for example in dataset[\"train\"]:\n",
    "        # Write the example text to the file\n",
    "        f.write(example[\"text\"] + \"\\n\")\n",
    "\n",
    "# Open the output file in write mode\n",
    "with open(output_file_test, \"w\", encoding=\"utf-8\") as f:\n",
    "    # Iterate over each example in the dataset\n",
    "    for example in dataset[\"test\"]:\n",
    "        # Write the example text to the file\n",
    "        f.write(example[\"text\"] + \"\\n\")"
   ]
  },
  {
   "cell_type": "markdown",
   "id": "7c02c8c9-e09e-4c71-b244-382f7134994f",
   "metadata": {},
   "source": [
    "You need to define a tokenizer to be used for tokenizing the dataset.\n"
   ]
  },
  {
   "cell_type": "code",
   "execution_count": 12,
   "id": "68b9b689-227e-41b2-8b56-5e76fb319921",
   "metadata": {},
   "outputs": [],
   "source": [
    "# create a tokenizer from existing one to re-use special tokens\n",
    "bert_tokenizer = BertTokenizerFast.from_pretrained(\"bert-base-uncased\")"
   ]
  },
  {
   "cell_type": "code",
   "execution_count": 13,
   "id": "c6c50b66-7a9d-451f-8e9a-089c5b3486f0",
   "metadata": {},
   "outputs": [
    {
     "name": "stderr",
     "output_type": "stream",
     "text": [
      "If you want to use `BertLMHeadModel` as a standalone, add `is_decoder=True.`\n"
     ]
    }
   ],
   "source": [
    "model_name = 'bert-base-uncased'\n",
    "\n",
    "model = AutoModelForCausalLM.from_pretrained(model_name)\n",
    "tokenizer = AutoTokenizer.from_pretrained(model_name, is_decoder=True)\n"
   ]
  },
  {
   "cell_type": "markdown",
   "id": "0776d2f0-a4fa-49d7-ac4e-48423396e1b9",
   "metadata": {},
   "source": [
    "### Training a Tokenizer(Optional)\n",
    "\n",
    "In the previous cell, you created an instance of tokenizer from a pre-trained BERT tokenizer. If you want to train the tokenizer on your own dataset, you can uncomment the code below. This is specially helpful when using transformers for specific areas such as medicine where tokens are somehow different than the general tokens that tokenizers are created based on. (You can skip this step if you do not want to train the tokenizer on your specific data):\n"
   ]
  },
  {
   "cell_type": "code",
   "execution_count": null,
   "id": "36f1811e-b083-4282-94ae-a4bfb03e2f97",
   "metadata": {},
   "outputs": [],
   "source": [
    "## create a python generator to dynamically load the data\n",
    "def batch_iterator(batch_size=10000):\n",
    "    for i in tqdm(range(0, len(dataset), batch_size)):\n",
    "        yield dataset['train'][i : i + batch_size][\"text\"]\n",
    "\n",
    "## create a tokenizer from existing one to re-use special tokens\n",
    "bert_tokenizer = BertTokenizerFast.from_pretrained(\"bert-base-uncased\")\n",
    "\n",
    "## train the tokenizer using our own dataset\n",
    "bert_tokenizer = bert_tokenizer.train_new_from_iterator(text_iterator=batch_iterator(), vocab_size=30522)"
   ]
  },
  {
   "cell_type": "markdown",
   "id": "6c7fca84-4716-4dcd-b405-c8aa36846d80",
   "metadata": {},
   "source": [
    "### Pretraining\n",
    "\n",
    "In this step, we define the configuration of the BERT model and create the model:\n",
    "#### Define the BERT Configuration\n",
    "Here, we define the configuration settings for a BERT model using `BertConfig`. This includes setting various parameters related to the model's architecture:\n",
    "- **vocab_size=30522**: Specifies the size of the vocabulary. This number should match the vocabulary size used by the tokenizer.\n",
    "- **hidden_size=768**: Sets the size of the hidden layers.\n",
    "- **num_hidden_layers=12**: Determines the number of hidden layers in the transformer model.\n",
    "- **num_attention_heads=12**: Sets the number of attention heads in each attention layer.\n",
    "- **intermediate_size=3072**: Specifies the size of the \"intermediate\" (i.e., feed-forward) layer within the transformer.\n",
    "\n"
   ]
  },
  {
   "cell_type": "code",
   "execution_count": 14,
   "id": "a7d24534-6ef7-450b-b8fb-ae7fee99d5b0",
   "metadata": {},
   "outputs": [],
   "source": [
    "# Define the BERT configuration\n",
    "config = BertConfig(\n",
    "    vocab_size=len(bert_tokenizer.get_vocab()),  # Specify the vocabulary size(Make sure this number equals the vocab_size of the tokenizer)\n",
    "    hidden_size=768,  # Set the hidden size\n",
    "    num_hidden_layers=12,  # Set the number of layers\n",
    "    num_attention_heads=12,  # Set the number of attention heads\n",
    "    intermediate_size=3072,  # Set the intermediate size\n",
    ")"
   ]
  },
  {
   "cell_type": "markdown",
   "id": "f0e8b2f8-1875-48cd-8138-94552fbf0e7a",
   "metadata": {},
   "source": [
    " Create the BERT model for pre-training:\n"
   ]
  },
  {
   "cell_type": "code",
   "execution_count": 15,
   "id": "cc0068c9-1b3a-416d-a952-5f1744bb8f8c",
   "metadata": {},
   "outputs": [
    {
     "name": "stderr",
     "output_type": "stream",
     "text": [
      "BertForMaskedLM has generative capabilities, as `prepare_inputs_for_generation` is explicitly overwritten. However, it doesn't directly inherit from `GenerationMixin`. From 👉v4.50👈 onwards, `PreTrainedModel` will NOT inherit from `GenerationMixin`, and this model will lose the ability to call `generate` and other related functions.\n",
      "  - If you're using `trust_remote_code=True`, you can get rid of this warning by loading the model with an auto class. See https://huggingface.co/docs/transformers/en/model_doc/auto#auto-classes\n",
      "  - If you are the owner of the model architecture code, please modify your model class such that it inherits from `GenerationMixin` (after `PreTrainedModel`, otherwise you'll get an exception).\n",
      "  - If you are not the owner of the model architecture class, please contact the model code owner to update it.\n"
     ]
    }
   ],
   "source": [
    "# Create the BERT model for pre-training\n",
    "model = BertForMaskedLM(config)"
   ]
  },
  {
   "cell_type": "markdown",
   "id": "f8bd094a-e4e9-46ed-a38c-754bfa6443b0",
   "metadata": {},
   "source": [
    "check model configuration\n"
   ]
  },
  {
   "cell_type": "code",
   "execution_count": 16,
   "id": "fcc4d167-6ed8-4238-8bf9-d1a7aaee318c",
   "metadata": {},
   "outputs": [
    {
     "data": {
      "text/plain": [
       "BertForMaskedLM(\n",
       "  (bert): BertModel(\n",
       "    (embeddings): BertEmbeddings(\n",
       "      (word_embeddings): Embedding(30522, 768, padding_idx=0)\n",
       "      (position_embeddings): Embedding(512, 768)\n",
       "      (token_type_embeddings): Embedding(2, 768)\n",
       "      (LayerNorm): LayerNorm((768,), eps=1e-12, elementwise_affine=True)\n",
       "      (dropout): Dropout(p=0.1, inplace=False)\n",
       "    )\n",
       "    (encoder): BertEncoder(\n",
       "      (layer): ModuleList(\n",
       "        (0-11): 12 x BertLayer(\n",
       "          (attention): BertAttention(\n",
       "            (self): BertSdpaSelfAttention(\n",
       "              (query): Linear(in_features=768, out_features=768, bias=True)\n",
       "              (key): Linear(in_features=768, out_features=768, bias=True)\n",
       "              (value): Linear(in_features=768, out_features=768, bias=True)\n",
       "              (dropout): Dropout(p=0.1, inplace=False)\n",
       "            )\n",
       "            (output): BertSelfOutput(\n",
       "              (dense): Linear(in_features=768, out_features=768, bias=True)\n",
       "              (LayerNorm): LayerNorm((768,), eps=1e-12, elementwise_affine=True)\n",
       "              (dropout): Dropout(p=0.1, inplace=False)\n",
       "            )\n",
       "          )\n",
       "          (intermediate): BertIntermediate(\n",
       "            (dense): Linear(in_features=768, out_features=3072, bias=True)\n",
       "            (intermediate_act_fn): GELUActivation()\n",
       "          )\n",
       "          (output): BertOutput(\n",
       "            (dense): Linear(in_features=3072, out_features=768, bias=True)\n",
       "            (LayerNorm): LayerNorm((768,), eps=1e-12, elementwise_affine=True)\n",
       "            (dropout): Dropout(p=0.1, inplace=False)\n",
       "          )\n",
       "        )\n",
       "      )\n",
       "    )\n",
       "  )\n",
       "  (cls): BertOnlyMLMHead(\n",
       "    (predictions): BertLMPredictionHead(\n",
       "      (transform): BertPredictionHeadTransform(\n",
       "        (dense): Linear(in_features=768, out_features=768, bias=True)\n",
       "        (transform_act_fn): GELUActivation()\n",
       "        (LayerNorm): LayerNorm((768,), eps=1e-12, elementwise_affine=True)\n",
       "      )\n",
       "      (decoder): Linear(in_features=768, out_features=30522, bias=True)\n",
       "    )\n",
       "  )\n",
       ")"
      ]
     },
     "execution_count": 16,
     "metadata": {},
     "output_type": "execute_result"
    }
   ],
   "source": [
    "# check model configuration\n",
    "model"
   ]
  },
  {
   "cell_type": "markdown",
   "id": "db79c588-4572-4fb7-8d77-2e8d59e6ea92",
   "metadata": {},
   "source": [
    "### Define the Training Dataset\n",
    "Here, we define a training dataset using the `TextDataset` class, which is suited for loading and processing text data for training language models. This setup typically involves a few key parameters:\n",
    "\n",
    "- **tokenizer=bert_tokenizer**: Specifies the tokenizer to be used. Here, `bert_tokenizer` is an instance of a BERT tokenizer, responsible for converting text into tokens that the model can understand.\n",
    "- **file_path=\"wikitext_dataset_train.txt\"**: The path to the pre-training data file. This should point to a text file containing the training data.\n",
    "- **block_size=128**: Sets the desired block size for training. This defines the length of the sequences that the model will be trained on\n",
    "\n",
    "The `TextDataset` class is designed to take large pieces of text (such as those found in the specified file), tokenize them, and efficiently handle them in manageable blocks of the specified size.\n",
    "\n"
   ]
  },
  {
   "cell_type": "code",
   "execution_count": 17,
   "id": "acb32346-1323-497b-bf5f-396adc9065ea",
   "metadata": {},
   "outputs": [
    {
     "name": "stderr",
     "output_type": "stream",
     "text": [
      "Token indices sequence length is longer than the specified maximum sequence length for this model (2303695 > 512). Running this sequence through the model will result in indexing errors\n"
     ]
    }
   ],
   "source": [
    "# Prepare the pre-training data as a TextDataset\n",
    "train_dataset = TextDataset(\n",
    "    tokenizer=bert_tokenizer,\n",
    "    file_path=\"wikitext_dataset_train.txt\",  # Path to your pre-training data file\n",
    "    block_size=128  # Set the desired block size for training\n",
    ")\n",
    "test_dataset = TextDataset(\n",
    "    tokenizer=bert_tokenizer,\n",
    "    file_path=\"wikitext_dataset_test.txt\",  # Path to your pre-training data file\n",
    "    block_size=128  # Set the desired block size for training\n",
    ")"
   ]
  },
  {
   "cell_type": "markdown",
   "id": "313e4a7f-2aac-41c6-a47f-b75cbfa2b394",
   "metadata": {},
   "source": [
    "examining  one sample the token indexes  are shown here with the block size.\n"
   ]
  },
  {
   "cell_type": "code",
   "execution_count": 18,
   "id": "05d9a343-3440-4c02-837d-992821232942",
   "metadata": {},
   "outputs": [
    {
     "data": {
      "text/plain": [
       "tensor([  101,  1027, 11748,  4801,  4360, 11906,  3523,  1027, 12411,  5558,\n",
       "         2053, 11748,  4801,  4360,  1017,  1024,  4895,  2890, 27108,  5732,\n",
       "        11906,  1006,  2887,  1024,  1856,  1806,  1671, 30222, 30218, 30259,\n",
       "        30227, 30255, 30258, 30219,  2509,  1010,  5507,  1012, 11748,  4801,\n",
       "         4360,  1997,  1996, 11686,  1017,  1007,  1010,  4141,  3615,  2000,\n",
       "         2004, 11748,  4801,  4360, 11906,  3523,  2648,  2900,  1010,  2003,\n",
       "         1037,  8608,  2535,  1030,  1011,  1030,  2652,  2678,  2208,  2764,\n",
       "         2011, 16562,  1998,  2865,  1012,  4432,  2005,  1996,  9160, 12109,\n",
       "         1012,  2207,  1999,  2254,  2249,  1999,  2900,  1010,  2009,  2003,\n",
       "         1996,  2353,  2208,  1999,  1996, 11748,  4801,  4360,  2186,  1012,\n",
       "        15440,  1996,  2168, 10077,  1997,  8608,  1998,  2613,  1030,  1011,\n",
       "         1030,  2051, 11247,  2004,  2049, 16372,  1010,  1996,  2466,  3216,\n",
       "         5903,  2000,  1996,  2034,  2208,  1998,  4076,   102])"
      ]
     },
     "execution_count": 18,
     "metadata": {},
     "output_type": "execute_result"
    }
   ],
   "source": [
    "train_dataset[0]"
   ]
  },
  {
   "cell_type": "markdown",
   "id": "5217de2a-1b3d-463d-a3d3-dc0a8e60c430",
   "metadata": {},
   "source": [
    "Then, we prepare data for the MLM task (masking random tokens):\n",
    "### Define the Data Collator for Language Modeling\n",
    "This line of code sets up a `DataCollatorForLanguageModeling` from the Hugging Face Transformers library. A data collator is used during training to dynamically create batches of data. For language modeling, particularly for models like BERT that use masked language modeling (MLM), this collator prepares training batches by automatically masking tokens according to a specified probability. Here are the details of the parameters used:\n",
    "\n",
    "- **tokenizer=bert_tokenizer**: Specifies the tokenizer to be used with the data collator. The `bert_tokenizer` is responsible for tokenizing the text and converting it to the format expected by the model.\n",
    "- **mlm=True**: Indicates that the data collator should mask tokens for masked language modeling training. This parameter being set to `True` configures the collator to randomly mask some of the tokens in the input data, which the model will then attempt to predict.\n",
    "- **mlm_probability=0.15**: Sets the probability with which tokens will be masked. A probability of 0.15 means that, on average, 15% of the tokens in any sequence will be replaced with a mask token.\n"
   ]
  },
  {
   "cell_type": "code",
   "execution_count": 19,
   "id": "ae1dc6a5-c876-479e-ad4e-5f23fff7d633",
   "metadata": {},
   "outputs": [],
   "source": [
    "# Prepare the data collator for language modeling\n",
    "data_collator = DataCollatorForLanguageModeling(\n",
    "    tokenizer=bert_tokenizer, mlm=True, mlm_probability=0.15\n",
    ")"
   ]
  },
  {
   "cell_type": "code",
   "execution_count": 20,
   "id": "af29b1f6-15f3-4570-bc84-655be520203c",
   "metadata": {},
   "outputs": [
    {
     "data": {
      "text/plain": [
       "{'input_ids': tensor([[  101,  1027, 11748,  4801,  4360, 11906,  3523,  1027, 12411,  5558,\n",
       "           2053, 11748,  4801,  4360,  1017,  1024,  4895,   103, 27108,  5732,\n",
       "          11906,  1006,  2887,  1024,  1856,  1806,  1671, 30222, 30218, 30259,\n",
       "            103, 30255,   103, 30219,  2509,   103,  5507,  1012, 11748,  4801,\n",
       "            103,  1997,  1996, 11686,  1017,  1007,  1010,  4141,  3615,  2000,\n",
       "           2004, 11748,  4801,  4360, 11906,  3523,  2648,   103,  1010,  2003,\n",
       "           1037, 29856,  2535,  1030,  1011,  1030,  2652,  2678,  2208,  2764,\n",
       "           2011, 16562,  1998,  2865,  1012,  4432,  2005,  1996,  9160,   103,\n",
       "           1012,   103,  1999,  6958,  2249,  1999,  2900,  1010,  2009,  2003,\n",
       "           1996,  2353,  2208,  1999,  1996, 11748,   103,  4360,  2186,  1012,\n",
       "          15440,  1996,  2168, 10077, 27284,  8608,   103,  2613,  1030,  1011,\n",
       "           1030,  2051,   103,  2004,  2049, 16372,  1010,  1996,  2466,   103,\n",
       "           5903,  2000,  1996,  2034,  2208,  1998,  4076,   102]]),\n",
       " 'labels': tensor([[ -100,  -100,  -100,  -100,  -100,  -100,  -100,  -100,  -100,  -100,\n",
       "           -100,  -100,  -100,  -100,  -100,  -100,  -100,  2890,  -100,  -100,\n",
       "           -100,  -100,  -100,  -100,  -100,  -100,  -100,  -100,  -100,  -100,\n",
       "          30227,  -100, 30258,  -100,  -100,  1010,  -100,  -100,  -100,  -100,\n",
       "           4360,  -100,  -100,  -100,  -100,  -100,  -100,  -100,  -100,  -100,\n",
       "           -100,  -100,  -100,  -100,  -100,  -100,  -100,  2900,  -100,  -100,\n",
       "           -100,  8608,  -100,  -100,  -100,  -100,  -100,  -100,  -100,  -100,\n",
       "           -100,  -100,  -100,  -100,  -100,  -100,  -100,  -100,  -100, 12109,\n",
       "           -100,  2207,  -100,  2254,  -100,  -100,  -100,  -100,  -100,  -100,\n",
       "           -100,  -100,  -100,  -100,  -100,  -100,  4801,  -100,  -100,  -100,\n",
       "           -100,  -100,  -100,  -100,  1997,  -100,  1998,  -100,  -100,  -100,\n",
       "           -100,  -100, 11247,  -100,  -100,  -100,  -100,  -100,  -100,  3216,\n",
       "           -100,  -100,  -100,  -100,  -100,  -100,  -100,  -100]])}"
      ]
     },
     "execution_count": 20,
     "metadata": {},
     "output_type": "execute_result"
    }
   ],
   "source": [
    "# check how collator transforms a sample input data record\n",
    "data_collator([train_dataset[0]])"
   ]
  },
  {
   "cell_type": "markdown",
   "id": "799dad82-0ad8-4547-8d5f-a2190832b0ac",
   "metadata": {},
   "source": [
    "Now, we train the BERT Model using the Trainer module. (For a complete list of training arguments, check [here](https://huggingface.co/docs/transformers/v4.33.2/en/main_classes/trainer#transformers.TrainingArguments)):\n",
    "This section configures the training process by specifying various parameters that control how the model is trained, evaluated, and saved:\n",
    "\n",
    "- **output_dir=\"./trained_model\"**: Specifies the directory where the trained model and other output files will be saved.\n",
    "- **overwrite_output_dir=True**: If set to `True`, this will overwrite the contents of the output directory if it already exists. This is useful when running experiments multiple times.\n",
    "- **do_eval=True**: Enables evaluation of the model. If `True`, the model will be evaluated at the specified intervals.\n",
    "- **evaluation_strategy=\"epoch\"**: Defines when the model should be evaluated. Setting this to \"epoch\" means the model will be evaluated at the end of each epoch.\n",
    "- **learning_rate=5e-5**: Sets the learning rate for training the model. This is a typical learning rate for fine-tuning BERT-like models.\n",
    "- **num_train_epochs=10**: Specifies the number of training epochs. Each epoch involves a full pass over the training data.\n",
    "- **per_device_train_batch_size=2**: Sets the batch size for training on each device. This should be set based on the memory capacity of your hardware.\n",
    "- **save_total_limit=2**: Limits the total number of model checkpoints to be saved. Only the most recent two checkpoints will be kept.\n",
    "- **logging_steps=20**: Determines how often to log training information, which can help monitor the training process.\n"
   ]
  },
  {
   "cell_type": "code",
   "execution_count": 21,
   "id": "33f4fb82-55e6-47eb-b12f-4afd51bded9d",
   "metadata": {},
   "outputs": [
    {
     "data": {
      "text/plain": [
       "'# Define the training arguments\\ntraining_args = TrainingArguments(\\n    output_dir=\"./trained_model\",  # Specify the output directory for the trained model\\n    overwrite_output_dir=True,\\n    do_eval=True,\\n    evaluation_strategy=\"epoch\",\\n    learning_rate=5e-5,\\n    num_train_epochs=10,  # Specify the number of training epochs\\n    per_device_train_batch_size=2,  # Set the batch size for training\\n    save_total_limit=2,  # Limit the total number of saved checkpoints\\n    logging_steps = 20\\n    \\n)\\n\\n# Instantiate the Trainer\\ntrainer = Trainer(\\n    model=model,\\n    args=training_args,\\n    data_collator=data_collator,\\n    train_dataset=train_dataset,\\n    eval_dataset=test_dataset,\\n)\\n\\n# Start the pre-training\\ntrainer.train()'"
      ]
     },
     "execution_count": 21,
     "metadata": {},
     "output_type": "execute_result"
    }
   ],
   "source": [
    "'''# Define the training arguments\n",
    "training_args = TrainingArguments(\n",
    "    output_dir=\"./trained_model\",  # Specify the output directory for the trained model\n",
    "    overwrite_output_dir=True,\n",
    "    do_eval=True,\n",
    "    evaluation_strategy=\"epoch\",\n",
    "    learning_rate=5e-5,\n",
    "    num_train_epochs=10,  # Specify the number of training epochs\n",
    "    per_device_train_batch_size=2,  # Set the batch size for training\n",
    "    save_total_limit=2,  # Limit the total number of saved checkpoints\n",
    "    logging_steps = 20\n",
    "    \n",
    ")\n",
    "\n",
    "# Instantiate the Trainer\n",
    "trainer = Trainer(\n",
    "    model=model,\n",
    "    args=training_args,\n",
    "    data_collator=data_collator,\n",
    "    train_dataset=train_dataset,\n",
    "    eval_dataset=test_dataset,\n",
    ")\n",
    "\n",
    "# Start the pre-training\n",
    "trainer.train()'''"
   ]
  },
  {
   "cell_type": "markdown",
   "id": "ea67a656-1342-408c-9573-e4eb8ce71f1d",
   "metadata": {},
   "source": [
    "## Evaluating Model Performance\n",
    "\n",
    "Let's check the performance of the trained model. Perplexity is commonly used to compare different language models or different configurations of the same model.\n",
    "After training, perplexity can be calculated on a held-out evaluation dataset to assess the model's performance. The perplexity is calculated by feeding the evaluation dataset through the model and comparing the predicted probabilities of the target tokens with the actual token values that are masked.\n",
    "\n",
    "A lower perplexity score indicates that the model has a better understanding of the language and is more effective at predicting the masked tokens. It suggests that the model has learned useful representations and can generalize well to unseen data.\n"
   ]
  },
  {
   "cell_type": "code",
   "execution_count": 22,
   "id": "ba26e28d-17d1-4281-be09-b332616666a0",
   "metadata": {},
   "outputs": [
    {
     "data": {
      "text/plain": [
       "'eval_results = trainer.evaluate()\\nprint(f\"Perplexity: {math.exp(eval_results[\\'eval_loss\\']):.2f}\")'"
      ]
     },
     "execution_count": 22,
     "metadata": {},
     "output_type": "execute_result"
    }
   ],
   "source": [
    "'''eval_results = trainer.evaluate()\n",
    "print(f\"Perplexity: {math.exp(eval_results['eval_loss']):.2f}\")'''"
   ]
  },
  {
   "cell_type": "markdown",
   "id": "075194dd-cb14-4dce-8275-f93b40e7a8a0",
   "metadata": {},
   "source": [
    "## Loading the saved model\n",
    "If you want to skip training and load the model that you trained for 10 epochs, go ahead and uncomment the following cell:\n"
   ]
  },
  {
   "cell_type": "code",
   "execution_count": 23,
   "id": "feb2625a-f6d8-41c1-befd-240feb471e40",
   "metadata": {},
   "outputs": [
    {
     "name": "stdout",
     "output_type": "stream",
     "text": [
      "--2025-02-03 14:00:02--  https://cf-courses-data.s3.us.cloud-object-storage.appdomain.cloud/BeXRxFT2EyQAmBHvxVaMYQ/bert-scratch-model.pt\n",
      "Resolving cf-courses-data.s3.us.cloud-object-storage.appdomain.cloud (cf-courses-data.s3.us.cloud-object-storage.appdomain.cloud)... 198.23.119.245\n",
      "Connecting to cf-courses-data.s3.us.cloud-object-storage.appdomain.cloud (cf-courses-data.s3.us.cloud-object-storage.appdomain.cloud)|198.23.119.245|:443... connected.\n",
      "HTTP request sent, awaiting response... 200 OK\n",
      "Length: 438141816 (418M) [binary/octet-stream]\n",
      "Saving to: ‘bert-scratch-model.pt’\n",
      "\n",
      "bert-scratch-model. 100%[===================>] 417.84M  23.1MB/s    in 23s     \n",
      "\n",
      "2025-02-03 14:00:26 (18.5 MB/s) - ‘bert-scratch-model.pt’ saved [438141816/438141816]\n",
      "\n"
     ]
    },
    {
     "data": {
      "text/plain": [
       "<All keys matched successfully>"
      ]
     },
     "execution_count": 23,
     "metadata": {},
     "output_type": "execute_result"
    }
   ],
   "source": [
    "!wget 'https://cf-courses-data.s3.us.cloud-object-storage.appdomain.cloud/BeXRxFT2EyQAmBHvxVaMYQ/bert-scratch-model.pt'\n",
    "model.load_state_dict(torch.load('bert-scratch-model.pt',map_location=torch.device('cpu')))"
   ]
  },
  {
   "cell_type": "markdown",
   "id": "fc3df9e0-09f9-49ed-a168-aab5186b0052",
   "metadata": {},
   "source": [
    "The simplest way to try out the model for inference is to use it in a pipeline(). Instantiate a pipeline for fill-mask with your model, and pass your text to it. If you like, you can use the top_k parameter to specify how many predictions to return:\n"
   ]
  },
  {
   "cell_type": "code",
   "execution_count": 24,
   "id": "7fe0ba42-f92d-468a-9872-6c97d94cdceb",
   "metadata": {},
   "outputs": [
    {
     "name": "stderr",
     "output_type": "stream",
     "text": [
      "Device set to use mps:0\n"
     ]
    },
    {
     "name": "stdout",
     "output_type": "stream",
     "text": [
      "Predicted token: [unused539], Confidence: 0.05\n",
      "Predicted token: [unused17], Confidence: 0.04\n",
      "Predicted token: [unused15], Confidence: 0.03\n",
      "Predicted token: [unused557], Confidence: 0.02\n",
      "Predicted token: [unused551], Confidence: 0.02\n"
     ]
    }
   ],
   "source": [
    "# Define the input text with a masked token\n",
    "text = \"This is a [MASK] movie!\"\n",
    "\n",
    "# Create a pipeline for the \"fill-mask\" task\n",
    "mask_filler = pipeline(\"fill-mask\", model=model,tokenizer=bert_tokenizer)\n",
    "\n",
    "# Generate predictions by filling the mask in the input text\n",
    "results = mask_filler(text) #top_k parameter can be set \n",
    "\n",
    "# Print the predicted sequences\n",
    "for result in results:\n",
    "    print(f\"Predicted token: {result['token_str']}, Confidence: {result['score']:.2f}\")"
   ]
  },
  {
   "cell_type": "markdown",
   "id": "51bed696-44c3-45d9-b2df-748c27710740",
   "metadata": {},
   "source": [
    "You can see that [MASK] is replaced by the most frequent token. This weak performance can be due to insufficient training, lack of training data, model architecture, or not tuning hyperparameters. Let's try a pretrained model from Hugging Face:\n"
   ]
  },
  {
   "cell_type": "markdown",
   "id": "7db3ac26-4c13-489b-a59e-886d729f6fae",
   "metadata": {},
   "source": [
    "## Inferencing a pretrained BERT model\n"
   ]
  },
  {
   "cell_type": "code",
   "execution_count": 25,
   "id": "83b71cda-a410-45e5-bb54-103e9b35e63d",
   "metadata": {},
   "outputs": [
    {
     "name": "stderr",
     "output_type": "stream",
     "text": [
      "Some weights of the model checkpoint at bert-base-uncased were not used when initializing BertForMaskedLM: ['bert.pooler.dense.bias', 'bert.pooler.dense.weight', 'cls.seq_relationship.bias', 'cls.seq_relationship.weight']\n",
      "- This IS expected if you are initializing BertForMaskedLM from the checkpoint of a model trained on another task or with another architecture (e.g. initializing a BertForSequenceClassification model from a BertForPreTraining model).\n",
      "- This IS NOT expected if you are initializing BertForMaskedLM from the checkpoint of a model that you expect to be exactly identical (initializing a BertForSequenceClassification model from a BertForSequenceClassification model).\n",
      "Device set to use mps:0\n"
     ]
    },
    {
     "name": "stdout",
     "output_type": "stream",
     "text": [
      "Predicted token: great, Confidence: 0.16\n",
      "Predicted token: horror, Confidence: 0.08\n",
      "Predicted token: good, Confidence: 0.08\n",
      "Predicted token: bad, Confidence: 0.05\n",
      "Predicted token: fantastic, Confidence: 0.04\n"
     ]
    }
   ],
   "source": [
    "# Load the pretrained BERT model and tokenizer\n",
    "pretrained_model = BertForMaskedLM.from_pretrained('bert-base-uncased')\n",
    "pretrained_tokenizer = BertTokenizerFast.from_pretrained('bert-base-uncased')\n",
    "\n",
    "# Define the input text with a masked token\n",
    "text = \"This is a [MASK] movie!\"\n",
    "\n",
    "# Create the pipeline\n",
    "mask_filler = pipeline(task='fill-mask', model=pretrained_model,tokenizer=pretrained_tokenizer)\n",
    "\n",
    "# Perform inference using the pipeline\n",
    "results = mask_filler(text)\n",
    "for result in results:\n",
    "    print(f\"Predicted token: {result['token_str']}, Confidence: {result['score']:.2f}\")"
   ]
  },
  {
   "cell_type": "markdown",
   "id": "d6ae5d74-b786-4ad5-89b9-4d13c0e880a8",
   "metadata": {},
   "source": [
    "This pretrianed model performs way better than the model you just trained for a few epochs using a single dataset. Still, pretrained models cannot be used for specific tasks, such as sentiment extraction or sequence classification. This is why supervised fine-tuning methods are introduced.\n"
   ]
  },
  {
   "cell_type": "markdown",
   "id": "d215c81c-f774-4969-8c91-faf01f9faa59",
   "metadata": {},
   "source": [
    "---\n"
   ]
  },
  {
   "cell_type": "markdown",
   "id": "5dc5d889-8991-4e02-bf7d-db798e326449",
   "metadata": {},
   "source": [
    "## Exercise\n"
   ]
  },
  {
   "cell_type": "markdown",
   "id": "3ac31c94-92b5-4e40-bed8-cd91b7530d5a",
   "metadata": {},
   "source": [
    "1. Create a model and tokenizer using Hugging Face library.\n",
    "2. Go to this [link](https://huggingface.co/datasets?task_categories=task_categories:text-classification&sort=trending)\n",
    "3. Choose a Text Classification dataset that you can load, for instance 'stanfordnlp/snli'\n",
    "4. Use that dataset to train your model(please be mindful of the resources available for the training) and evaluate it.\n",
    "\n",
    "   >Note: The lab environment doesn't have the resources to support the training and this might cause the kernel to die.\n"
   ]
  },
  {
   "cell_type": "markdown",
   "id": "8ec13bf9-ecb2-4631-a180-635efd7ff8bd",
   "metadata": {},
   "source": [
    "<details><summary>Click here for a hint</summary>\n",
    "\n",
    "-   SNLI has 3 labels\n",
    "-   You can use `load_dataset(\"stanfordnlp/snli\")` to load the dataset\n",
    "</details>\n"
   ]
  },
  {
   "cell_type": "markdown",
   "id": "e627a80f-f13e-4863-9f5b-28c97286450b",
   "metadata": {},
   "source": [
    "<details><summary>Click here for the solution</summary>\n",
    "\n",
    "```python\n",
    "from transformers import AutoTokenizer, AutoModelForSequenceClassification\n",
    "from datasets import load_dataset\n",
    "\n",
    "# Load the SNLI dataset\n",
    "snli = load_dataset(\"stanfordnlp/snli\")\n",
    "\n",
    "# Preprocessing function\n",
    "def preprocess_function(examples):\n",
    "  premise = examples[\"premise\"]\n",
    "  hypothesis = examples[\"hypothesis\"]\n",
    "  return tokenizer(premise, hypothesis, padding=\"max_length\", truncation=True)\n",
    "\n",
    "model_name = \"bert-base-uncased\"\n",
    "\n",
    "# Load tokenizer and model\n",
    "tokenizer = AutoTokenizer.from_pretrained(model_name)\n",
    "model = AutoModelForSequenceClassification.from_pretrained(model_name, num_labels=3)\n",
    "\n",
    "# Apply preprocessing to training and validation sets\n",
    "train_encoded = snli[\"train\"].map(preprocess_function, batched=True)\n",
    "val_encoded = snli[\"validation\"].map(preprocess_function, batched=True)\n",
    "\n",
    "# Training function (replace with your training loop)\n",
    "from transformers import TrainingArguments, Trainer\n",
    "\n",
    "training_args = TrainingArguments(\n",
    "    output_dir=\"./results\",  # Replace with your output directory\n",
    "    per_device_train_batch_size=16,\n",
    "    per_device_eval_batch_size=16,\n",
    "    num_train_epochs=3,\n",
    ")\n",
    "\n",
    "trainer = Trainer(\n",
    "    model=model,\n",
    "    args=training_args,\n",
    "    train_dataset=train_encoded,\n",
    "    eval_dataset=val_encoded,\n",
    ")\n",
    "\n",
    "trainer.train()\n",
    "\n",
    "# Evaluation function (replace with your metrics)\n",
    "from sklearn.metrics import accuracy_score\n",
    "\n",
    "predictions, labels = trainer.predict(val_encoded)\n",
    "accuracy = accuracy_score(labels, predictions.argmax(-1))\n",
    "print(f\"Accuracy on validation set: {accuracy:.4f}\")\n",
    "\n",
    "```\n",
    "\n",
    "</details>\n"
   ]
  },
  {
   "cell_type": "code",
   "execution_count": null,
   "id": "b6f15731-c558-4868-8513-da29a9b1241f",
   "metadata": {},
   "outputs": [
    {
     "data": {
      "application/vnd.jupyter.widget-view+json": {
       "model_id": "2916c12ff7654f71a4d9e4fc72c3abf6",
       "version_major": 2,
       "version_minor": 0
      },
      "text/plain": [
       "README.md:   0%|          | 0.00/16.0k [00:00<?, ?B/s]"
      ]
     },
     "metadata": {},
     "output_type": "display_data"
    },
    {
     "data": {
      "application/vnd.jupyter.widget-view+json": {
       "model_id": "2710ac31570d4dcb95922fac20714437",
       "version_major": 2,
       "version_minor": 0
      },
      "text/plain": [
       "test-00000-of-00001.parquet:   0%|          | 0.00/412k [00:00<?, ?B/s]"
      ]
     },
     "metadata": {},
     "output_type": "display_data"
    },
    {
     "data": {
      "application/vnd.jupyter.widget-view+json": {
       "model_id": "95c74334f4fe4004bffa7820e8d13bc8",
       "version_major": 2,
       "version_minor": 0
      },
      "text/plain": [
       "validation-00000-of-00001.parquet:   0%|          | 0.00/413k [00:00<?, ?B/s]"
      ]
     },
     "metadata": {},
     "output_type": "display_data"
    },
    {
     "data": {
      "application/vnd.jupyter.widget-view+json": {
       "model_id": "c0304a3b1ffb4a72b2a070e592be8ae7",
       "version_major": 2,
       "version_minor": 0
      },
      "text/plain": [
       "train-00000-of-00001.parquet:   0%|          | 0.00/19.6M [00:00<?, ?B/s]"
      ]
     },
     "metadata": {},
     "output_type": "display_data"
    },
    {
     "data": {
      "application/vnd.jupyter.widget-view+json": {
       "model_id": "238f6bd611da4c409ac10b83f1128e2a",
       "version_major": 2,
       "version_minor": 0
      },
      "text/plain": [
       "Generating test split:   0%|          | 0/10000 [00:00<?, ? examples/s]"
      ]
     },
     "metadata": {},
     "output_type": "display_data"
    },
    {
     "data": {
      "application/vnd.jupyter.widget-view+json": {
       "model_id": "dd32d567a00948438d755838b5466366",
       "version_major": 2,
       "version_minor": 0
      },
      "text/plain": [
       "Generating validation split:   0%|          | 0/10000 [00:00<?, ? examples/s]"
      ]
     },
     "metadata": {},
     "output_type": "display_data"
    },
    {
     "data": {
      "application/vnd.jupyter.widget-view+json": {
       "model_id": "0be36966dd53475dad98434fa2bc067b",
       "version_major": 2,
       "version_minor": 0
      },
      "text/plain": [
       "Generating train split:   0%|          | 0/550152 [00:00<?, ? examples/s]"
      ]
     },
     "metadata": {},
     "output_type": "display_data"
    },
    {
     "name": "stderr",
     "output_type": "stream",
     "text": [
      "Some weights of BertForSequenceClassification were not initialized from the model checkpoint at bert-base-uncased and are newly initialized: ['classifier.bias', 'classifier.weight']\n",
      "You should probably TRAIN this model on a down-stream task to be able to use it for predictions and inference.\n"
     ]
    },
    {
     "data": {
      "application/vnd.jupyter.widget-view+json": {
       "model_id": "377d5d92a8c0415587669826e380ae22",
       "version_major": 2,
       "version_minor": 0
      },
      "text/plain": [
       "Map:   0%|          | 0/550152 [00:00<?, ? examples/s]"
      ]
     },
     "metadata": {},
     "output_type": "display_data"
    },
    {
     "data": {
      "application/vnd.jupyter.widget-view+json": {
       "model_id": "50b5e17db462466a83ab6cb0a99059b9",
       "version_major": 2,
       "version_minor": 0
      },
      "text/plain": [
       "Map:   0%|          | 0/10000 [00:00<?, ? examples/s]"
      ]
     },
     "metadata": {},
     "output_type": "display_data"
    },
    {
     "data": {
      "text/html": [
       "\n",
       "    <div>\n",
       "      \n",
       "      <progress value='489' max='275076' style='width:300px; height:20px; vertical-align: middle;'></progress>\n",
       "      [   489/275076 02:45 < 25:54:41, 2.94 it/s, Epoch 0.00/1]\n",
       "    </div>\n",
       "    <table border=\"1\" class=\"dataframe\">\n",
       "  <thead>\n",
       " <tr style=\"text-align: left;\">\n",
       "      <th>Step</th>\n",
       "      <th>Training Loss</th>\n",
       "    </tr>\n",
       "  </thead>\n",
       "  <tbody>\n",
       "  </tbody>\n",
       "</table><p>"
      ],
      "text/plain": [
       "<IPython.core.display.HTML object>"
      ]
     },
     "metadata": {},
     "output_type": "display_data"
    }
   ],
   "source": [
    "from transformers import AutoTokenizer, AutoModelForSequenceClassification\n",
    "from datasets import load_dataset\n",
    "\n",
    "# Load the SNLI dataset\n",
    "snli = load_dataset(\"stanfordnlp/snli\")\n",
    "\n",
    "# Preprocessing function\n",
    "def preprocess_function(examples):\n",
    "  premise = examples[\"premise\"]\n",
    "  hypothesis = examples[\"hypothesis\"]\n",
    "  return tokenizer(premise, hypothesis, padding=\"max_length\", truncation=True)\n",
    "\n",
    "model_name = \"bert-base-uncased\"\n",
    "\n",
    "# Load tokenizer and model\n",
    "tokenizer = AutoTokenizer.from_pretrained(model_name)\n",
    "model = AutoModelForSequenceClassification.from_pretrained(model_name, num_labels=3)\n",
    "\n",
    "# Apply preprocessing to training and validation sets\n",
    "train_encoded = snli[\"train\"].map(preprocess_function, batched=True)\n",
    "val_encoded = snli[\"validation\"].map(preprocess_function, batched=True)\n",
    "\n",
    "# Training function (replace with your training loop)\n",
    "from transformers import TrainingArguments, Trainer\n",
    "\n",
    "training_args = TrainingArguments(\n",
    "    output_dir=\"./results\",  # Replace with your output directory\n",
    "    per_device_train_batch_size=2,\n",
    "    per_device_eval_batch_size=2,\n",
    "    num_train_epochs=1,\n",
    ")\n",
    "\n",
    "trainer = Trainer(\n",
    "    model=model,\n",
    "    args=training_args,\n",
    "    train_dataset=train_encoded,\n",
    "    eval_dataset=val_encoded,\n",
    ")\n",
    "\n",
    "trainer.train()\n",
    "\n",
    "# Evaluation function (replace with your metrics)\n",
    "from sklearn.metrics import accuracy_score\n",
    "\n",
    "predictions, labels = trainer.predict(val_encoded)\n",
    "accuracy = accuracy_score(labels, predictions.argmax(-1))\n",
    "print(f\"Accuracy on validation set: {accuracy:.4f}\")"
   ]
  },
  {
   "cell_type": "code",
   "execution_count": null,
   "metadata": {},
   "outputs": [],
   "source": []
  },
  {
   "cell_type": "markdown",
   "id": "0152ef5b-597f-41d2-a12d-248822dbf15b",
   "metadata": {},
   "source": [
    "# Congratulations! You have completed the lab\n"
   ]
  },
  {
   "cell_type": "markdown",
   "id": "7e3eeb18-1153-44c3-a43e-f6add7540e81",
   "metadata": {},
   "source": [
    "## Authors\n"
   ]
  },
  {
   "cell_type": "markdown",
   "id": "a83af8af-1691-44e1-997c-a3a2dcf9c07a",
   "metadata": {},
   "source": [
    "[Fateme Akbari](https://author.skills.network/instructors/fateme_akbari)\n"
   ]
  },
  {
   "cell_type": "markdown",
   "id": "833cfbd9-ef1a-4c93-8781-154733096fa1",
   "metadata": {},
   "source": [
    "© Copyright IBM Corporation. All rights reserved.\n"
   ]
  }
 ],
 "metadata": {
  "kernelspec": {
   "display_name": "Python 3",
   "language": "python",
   "name": "python3"
  },
  "language_info": {
   "codemirror_mode": {
    "name": "ipython",
    "version": 3
   },
   "file_extension": ".py",
   "mimetype": "text/x-python",
   "name": "python",
   "nbconvert_exporter": "python",
   "pygments_lexer": "ipython3",
   "version": "3.9.6"
  },
  "prev_pub_hash": "12be72596f22967736837e28a7be96d86f7db37dcd84a70c4ed644d41af75003"
 },
 "nbformat": 4,
 "nbformat_minor": 4
}
